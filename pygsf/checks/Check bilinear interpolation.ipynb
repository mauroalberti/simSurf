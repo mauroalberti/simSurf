{
 "cells": [
  {
   "cell_type": "markdown",
   "metadata": {},
   "source": [
    "# Check bilinear interpolation"
   ]
  },
  {
   "cell_type": "code",
   "execution_count": 1,
   "metadata": {},
   "outputs": [],
   "source": [
    "import numpy as np"
   ]
  },
  {
   "cell_type": "code",
   "execution_count": 2,
   "metadata": {},
   "outputs": [
    {
     "ename": "ModuleNotFoundError",
     "evalue": "No module named 'pygsf'",
     "output_type": "error",
     "traceback": [
      "\u001b[1;31m---------------------------------------------------------------------------\u001b[0m",
      "\u001b[1;31mModuleNotFoundError\u001b[0m                       Traceback (most recent call last)",
      "\u001b[1;32m<ipython-input-2-6c792635e305>\u001b[0m in \u001b[0;36m<module>\u001b[1;34m()\u001b[0m\n\u001b[1;32m----> 1\u001b[1;33m \u001b[1;32mfrom\u001b[0m \u001b[0mpygsf\u001b[0m\u001b[1;33m.\u001b[0m\u001b[0mmathematics\u001b[0m\u001b[1;33m.\u001b[0m\u001b[0minterpolations\u001b[0m \u001b[1;32mimport\u001b[0m \u001b[0minterp_bilinear\u001b[0m \u001b[1;32mas\u001b[0m \u001b[0ms_bilinear_interp\u001b[0m\u001b[1;33m\u001b[0m\u001b[0m\n\u001b[0m",
      "\u001b[1;31mModuleNotFoundError\u001b[0m: No module named 'pygsf'"
     ]
    }
   ],
   "source": [
    "from pygsf.mathematics.interpolations import interp_bilinear as s_bilinear_interp"
   ]
  },
  {
   "cell_type": "code",
   "execution_count": null,
   "metadata": {},
   "outputs": [],
   "source": [
    "s_bilinear_interp(\n",
    "    i=0,\n",
    "    j=0, \n",
    "    v00=42.0, \n",
    "    v01=17.2, \n",
    "    v10=-44.2,\n",
    "    v11=19.4)"
   ]
  },
  {
   "cell_type": "code",
   "execution_count": null,
   "metadata": {},
   "outputs": [],
   "source": [
    "s_bilinear_interp(\n",
    "    i=0,\n",
    "    j=1, \n",
    "    v00=42.0, \n",
    "    v01=17.2, \n",
    "    v10=-44.2,\n",
    "    v11=19.4)"
   ]
  },
  {
   "cell_type": "code",
   "execution_count": null,
   "metadata": {},
   "outputs": [],
   "source": [
    "s_bilinear_interp(\n",
    "    i=1,\n",
    "    j=0, \n",
    "    v00=42.0, \n",
    "    v01=17.2, \n",
    "    v10=-44.2,\n",
    "    v11=19.4)"
   ]
  },
  {
   "cell_type": "code",
   "execution_count": null,
   "metadata": {},
   "outputs": [],
   "source": [
    "s_bilinear_interp(\n",
    "    i=1,\n",
    "    j=1, \n",
    "    v00=42.0, \n",
    "    v01=17.2, \n",
    "    v10=-44.2,\n",
    "    v11=19.4)"
   ]
  },
  {
   "cell_type": "code",
   "execution_count": null,
   "metadata": {},
   "outputs": [],
   "source": [
    "s_bilinear_interp(\n",
    "    i=0,\n",
    "    j=0.5, \n",
    "    v00=10.0, \n",
    "    v01=30.0, \n",
    "    v10=-30,\n",
    "    v11=-10)"
   ]
  },
  {
   "cell_type": "code",
   "execution_count": null,
   "metadata": {},
   "outputs": [],
   "source": [
    "s_bilinear_interp(\n",
    "    i=0.5,\n",
    "    j=0.0, \n",
    "    v00=10.0, \n",
    "    v01=20.2, \n",
    "    v10=-34.2,\n",
    "    v11=19.4)"
   ]
  },
  {
   "cell_type": "code",
   "execution_count": null,
   "metadata": {},
   "outputs": [],
   "source": [
    "s_bilinear_interp(\n",
    "    i=0.5,\n",
    "    j=0.5, \n",
    "    v00=0.0, \n",
    "    v01=40.0, \n",
    "    v10=-30.0,\n",
    "    v11=-10.0)"
   ]
  },
  {
   "cell_type": "code",
   "execution_count": null,
   "metadata": {},
   "outputs": [],
   "source": [
    "from pygsf.mathematics.arrays import interp_bilinear as a_bilinear_interp"
   ]
  },
  {
   "cell_type": "code",
   "execution_count": null,
   "metadata": {},
   "outputs": [],
   "source": [
    "arr = np.array([[0, 1],[1, 2]])"
   ]
  },
  {
   "cell_type": "code",
   "execution_count": null,
   "metadata": {},
   "outputs": [],
   "source": [
    "a_bilinear_interp(\n",
    "    arr=arr, \n",
    "    i=-1, \n",
    "    j=-1) is None"
   ]
  },
  {
   "cell_type": "code",
   "execution_count": null,
   "metadata": {},
   "outputs": [],
   "source": [
    "a_bilinear_interp(\n",
    "    arr=arr, \n",
    "    i=2, \n",
    "    j=2) is None"
   ]
  },
  {
   "cell_type": "code",
   "execution_count": null,
   "metadata": {},
   "outputs": [],
   "source": [
    "a_bilinear_interp(\n",
    "    arr=arr, \n",
    "    i=0.5, \n",
    "    j=1.5) is None"
   ]
  },
  {
   "cell_type": "code",
   "execution_count": null,
   "metadata": {},
   "outputs": [],
   "source": [
    "a_bilinear_interp(\n",
    "    arr=arr, \n",
    "    i=0, \n",
    "    j=0)"
   ]
  },
  {
   "cell_type": "code",
   "execution_count": null,
   "metadata": {},
   "outputs": [],
   "source": [
    "a_bilinear_interp(\n",
    "    arr=arr, \n",
    "    i=0, \n",
    "    j=1)"
   ]
  },
  {
   "cell_type": "code",
   "execution_count": null,
   "metadata": {},
   "outputs": [],
   "source": [
    "a_bilinear_interp(\n",
    "    arr=arr, \n",
    "    i=1, \n",
    "    j=0)"
   ]
  },
  {
   "cell_type": "code",
   "execution_count": null,
   "metadata": {},
   "outputs": [],
   "source": [
    "a_bilinear_interp(\n",
    "    arr=arr, \n",
    "    i=1, \n",
    "    j=1)"
   ]
  },
  {
   "cell_type": "code",
   "execution_count": null,
   "metadata": {},
   "outputs": [],
   "source": [
    "a_bilinear_interp(\n",
    "    arr=arr, \n",
    "    i=0.5, \n",
    "    j=0)"
   ]
  },
  {
   "cell_type": "code",
   "execution_count": null,
   "metadata": {},
   "outputs": [],
   "source": [
    "a_bilinear_interp(\n",
    "    arr=arr, \n",
    "    i=0.5, \n",
    "    j=1)"
   ]
  },
  {
   "cell_type": "code",
   "execution_count": null,
   "metadata": {},
   "outputs": [],
   "source": [
    "a_bilinear_interp(\n",
    "    arr=arr, \n",
    "    i=0.75, \n",
    "    j=1)"
   ]
  },
  {
   "cell_type": "code",
   "execution_count": null,
   "metadata": {},
   "outputs": [],
   "source": [
    "a_bilinear_interp(\n",
    "    arr=arr, \n",
    "    i=0.5, \n",
    "    j=0.5)"
   ]
  },
  {
   "cell_type": "code",
   "execution_count": null,
   "metadata": {},
   "outputs": [],
   "source": [
    "a_bilinear_interp(\n",
    "    arr=arr, \n",
    "    i=1, \n",
    "    j=0.5)"
   ]
  },
  {
   "cell_type": "code",
   "execution_count": null,
   "metadata": {},
   "outputs": [],
   "source": [
    "a_bilinear_interp(\n",
    "    arr=arr, \n",
    "    i=1, \n",
    "    j=0.75)"
   ]
  },
  {
   "cell_type": "code",
   "execution_count": null,
   "metadata": {},
   "outputs": [],
   "source": []
  }
 ],
 "metadata": {
  "kernelspec": {
   "display_name": "Python 3",
   "language": "python",
   "name": "python3"
  },
  "language_info": {
   "codemirror_mode": {
    "name": "ipython",
    "version": 3
   },
   "file_extension": ".py",
   "mimetype": "text/x-python",
   "name": "python",
   "nbconvert_exporter": "python",
   "pygments_lexer": "ipython3",
   "version": "3.7.0"
  }
 },
 "nbformat": 4,
 "nbformat_minor": 2
}
