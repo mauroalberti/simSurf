{
 "cells": [
  {
   "cell_type": "markdown",
   "metadata": {},
   "source": [
    "## Plane-DEM intersections"
   ]
  },
  {
   "cell_type": "markdown",
   "metadata": {},
   "source": [
    "To test the routine for calculating the plane-DEM intersection, a few simulated topographic surfaces were used."
   ]
  },
  {
   "cell_type": "markdown",
   "metadata": {},
   "source": [
    "### Test case 1"
   ]
  },
  {
   "cell_type": "markdown",
   "metadata": {},
   "source": [
    "The first test case is illustrated in the image below. We have a horizontal topographic surface, at a height of 0, with 100 x 100 cells with a cell size of 1. The geological plane dips 45° towards East. The source point for the plane is located at (0, 50, 50).\n",
    "\n",
    "The locations of the expected intersection points are (50, *, 0)."
   ]
  },
  {
   "cell_type": "markdown",
   "metadata": {},
   "source": [
    "![Test case 1](ims/inters_dem_plane_case_1.png)"
   ]
  },
  {
   "cell_type": "markdown",
   "metadata": {},
   "source": [
    "First, a horizontal plane was created with Saga GIS and saved in *pygsf/example_data/horiz_plane.asc*."
   ]
  },
  {
   "cell_type": "markdown",
   "metadata": {},
   "source": [
    "Loading the dataset can be made with the following function:"
   ]
  },
  {
   "cell_type": "code",
   "execution_count": 1,
   "metadata": {},
   "outputs": [],
   "source": [
    "from pygsf.libs_utils.gdal.gdal import try_read_raster_band"
   ]
  },
  {
   "cell_type": "code",
   "execution_count": 2,
   "metadata": {},
   "outputs": [],
   "source": [
    "source_data = \"/home/mauro/Documents/projects/gsf/pygsf/example_data/horiz_plane.asc\""
   ]
  },
  {
   "cell_type": "code",
   "execution_count": 3,
   "metadata": {},
   "outputs": [],
   "source": [
    "success, cntnt = try_read_raster_band(raster_source=source_data)"
   ]
  },
  {
   "cell_type": "code",
   "execution_count": 4,
   "metadata": {},
   "outputs": [
    {
     "name": "stdout",
     "output_type": "stream",
     "text": [
      "True\n"
     ]
    }
   ],
   "source": [
    "print(success)"
   ]
  },
  {
   "cell_type": "markdown",
   "metadata": {},
   "source": [
    "We read the data source with success. So we may unpack the result."
   ]
  },
  {
   "cell_type": "code",
   "execution_count": 5,
   "metadata": {},
   "outputs": [],
   "source": [
    "geotransform, projection, band_params, data = cntnt"
   ]
  },
  {
   "cell_type": "code",
   "execution_count": 6,
   "metadata": {},
   "outputs": [
    {
     "data": {
      "text/plain": [
       "pygsf.spatial.rasters.geotransform.GeoTransform"
      ]
     },
     "execution_count": 6,
     "metadata": {},
     "output_type": "execute_result"
    }
   ],
   "source": [
    "type(geotransform)"
   ]
  },
  {
   "cell_type": "code",
   "execution_count": 7,
   "metadata": {},
   "outputs": [
    {
     "name": "stdout",
     "output_type": "stream",
     "text": [
      "[  0.   1.   0. 100.   0.  -1.]\n"
     ]
    }
   ],
   "source": [
    "print(geotransform)"
   ]
  },
  {
   "cell_type": "code",
   "execution_count": 8,
   "metadata": {},
   "outputs": [
    {
     "data": {
      "text/plain": [
       "str"
      ]
     },
     "execution_count": 8,
     "metadata": {},
     "output_type": "execute_result"
    }
   ],
   "source": [
    "type(projection)"
   ]
  },
  {
   "cell_type": "code",
   "execution_count": 9,
   "metadata": {},
   "outputs": [
    {
     "name": "stdout",
     "output_type": "stream",
     "text": [
      "\n"
     ]
    }
   ],
   "source": [
    "print(projection)"
   ]
  },
  {
   "cell_type": "markdown",
   "metadata": {},
   "source": [
    "Hmmm, there is no projection info. In fact, there shouldn't.."
   ]
  },
  {
   "cell_type": "code",
   "execution_count": 10,
   "metadata": {},
   "outputs": [
    {
     "data": {
      "text/plain": [
       "dict"
      ]
     },
     "execution_count": 10,
     "metadata": {},
     "output_type": "execute_result"
    }
   ],
   "source": [
    "type(band_params)"
   ]
  },
  {
   "cell_type": "markdown",
   "metadata": {},
   "source": [
    "A dictionary, as suspected. Try to see the content.."
   ]
  },
  {
   "cell_type": "code",
   "execution_count": 11,
   "metadata": {},
   "outputs": [
    {
     "name": "stdout",
     "output_type": "stream",
     "text": [
      "{'numOverviews': 0, 'stats': {'std_dev': -1.0, 'min': 0.0, 'mean': 0.0, 'max': 0.0}, 'numColorTableEntries': 0, 'dataType': 'Float32', 'unitType': '', 'noData': -99999.0}\n"
     ]
    }
   ],
   "source": [
    "print(band_params)"
   ]
  },
  {
   "cell_type": "markdown",
   "metadata": {},
   "source": [
    "A very horizontal surface, we agree.."
   ]
  },
  {
   "cell_type": "code",
   "execution_count": 12,
   "metadata": {},
   "outputs": [
    {
     "data": {
      "text/plain": [
       "numpy.ndarray"
      ]
     },
     "execution_count": 12,
     "metadata": {},
     "output_type": "execute_result"
    }
   ],
   "source": [
    "type(data)"
   ]
  },
  {
   "cell_type": "code",
   "execution_count": 13,
   "metadata": {},
   "outputs": [
    {
     "data": {
      "text/plain": [
       "(100, 100)"
      ]
     },
     "execution_count": 13,
     "metadata": {},
     "output_type": "execute_result"
    }
   ],
   "source": [
    "data.shape"
   ]
  },
  {
   "cell_type": "code",
   "execution_count": 14,
   "metadata": {},
   "outputs": [
    {
     "data": {
      "text/plain": [
       "0.0"
      ]
     },
     "execution_count": 14,
     "metadata": {},
     "output_type": "execute_result"
    }
   ],
   "source": [
    "data.min()"
   ]
  },
  {
   "cell_type": "code",
   "execution_count": 15,
   "metadata": {},
   "outputs": [
    {
     "data": {
      "text/plain": [
       "0.0"
      ]
     },
     "execution_count": 15,
     "metadata": {},
     "output_type": "execute_result"
    }
   ],
   "source": [
    "data.max()"
   ]
  },
  {
   "cell_type": "markdown",
   "metadata": {},
   "source": [
    "Given these data, we store them into a GeoArray, a class imported from pygsf.spatial.rasters.geoarray:"
   ]
  },
  {
   "cell_type": "code",
   "execution_count": 16,
   "metadata": {},
   "outputs": [],
   "source": [
    "from pygsf.spatial.rasters.geoarray import GeoArray"
   ]
  },
  {
   "cell_type": "code",
   "execution_count": 17,
   "metadata": {},
   "outputs": [],
   "source": [
    "ga = GeoArray(inGeotransform=geotransform, inProjection=projection, inLevels=[data])"
   ]
  },
  {
   "cell_type": "markdown",
   "metadata": {},
   "source": [
    "There is a single band provided in the geoarray, and represented by the data array."
   ]
  },
  {
   "cell_type": "markdown",
   "metadata": {},
   "source": [
    "The signature of the plane-DEM intersection function is:"
   ]
  },
  {
   "cell_type": "markdown",
   "metadata": {},
   "source": [
    "**plane_dem_intersection** *(srcPlaneAttitude: Plane, srcPt: Point, geo_array: GeoArray, level_ndx: int=0) \n",
    "-> Tuple[List[Point], List[Point]]:*"
   ]
  },
  {
   "cell_type": "markdown",
   "metadata": {},
   "source": [
    "We already have the geoarray, we need to define the source plane attitue and the source point."
   ]
  },
  {
   "cell_type": "markdown",
   "metadata": {},
   "source": [
    "The geoplane is East-dipping with a dip angle of 45°:"
   ]
  },
  {
   "cell_type": "code",
   "execution_count": 18,
   "metadata": {},
   "outputs": [],
   "source": [
    "from pygsf.orientations.orientations import Plane\n",
    "gplane = Plane(azim=90.0, dip_ang=45.0)"
   ]
  },
  {
   "cell_type": "code",
   "execution_count": 19,
   "metadata": {},
   "outputs": [
    {
     "name": "stdout",
     "output_type": "stream",
     "text": [
      "Plane(090.00, +45.00)\n"
     ]
    }
   ],
   "source": [
    "print(gplane)"
   ]
  },
  {
   "cell_type": "markdown",
   "metadata": {},
   "source": [
    "The source point is located at (0. 50, 50)"
   ]
  },
  {
   "cell_type": "code",
   "execution_count": 20,
   "metadata": {},
   "outputs": [],
   "source": [
    "from pygsf.spatial.vectorial.vectorial import Point\n",
    "pt = Point(0, 50, 50)"
   ]
  },
  {
   "cell_type": "markdown",
   "metadata": {},
   "source": [
    "Now we try calculating the intersection:"
   ]
  },
  {
   "cell_type": "code",
   "execution_count": 21,
   "metadata": {},
   "outputs": [
    {
     "name": "stderr",
     "output_type": "stream",
     "text": [
      "/home/mauro/Documents/projects/gsf/pygsf/topography/plane_intersect.py:88: RuntimeWarning: divide by zero encountered in true_divide\n",
      "  inters_residual_indices = np.where(abs(m_arr1 - m_arr2) < m_delta_tol, np.NaN, (q_arr2 - q_arr1) / (cell_size * (m_arr1 - m_arr2)))\n",
      "/home/mauro/Documents/projects/gsf/pygsf/topography/plane_intersect.py:97: RuntimeWarning: invalid value encountered in greater_equal\n",
      "  inters_intracells_residuals = np.where(np.logical_and(inters_with_coincident_starts >= 0.0, inters_with_coincident_starts < 1.0), inters_with_coincident_starts, np.NaN)\n",
      "/home/mauro/Documents/projects/gsf/pygsf/topography/plane_intersect.py:97: RuntimeWarning: invalid value encountered in less\n",
      "  inters_intracells_residuals = np.where(np.logical_and(inters_with_coincident_starts >= 0.0, inters_with_coincident_starts < 1.0), inters_with_coincident_starts, np.NaN)\n"
     ]
    }
   ],
   "source": [
    "from pygsf.topography.plane_intersect import plane_dem_intersection\n",
    "inters_pts = plane_dem_intersection(\n",
    "        srcPlaneAttitude=gplane,\n",
    "        srcPt=pt,\n",
    "        geo_array=ga)"
   ]
  },
  {
   "cell_type": "code",
   "execution_count": 22,
   "metadata": {},
   "outputs": [
    {
     "name": "stdout",
     "output_type": "stream",
     "text": [
      "([Point(50.0000, 99.5000, 0.0000), Point(50.0000, 98.5000, 0.0000), Point(50.0000, 97.5000, 0.0000), Point(50.0000, 96.5000, 0.0000), Point(50.0000, 95.5000, 0.0000), Point(50.0000, 94.5000, 0.0000), Point(50.0000, 93.5000, 0.0000), Point(50.0000, 92.5000, 0.0000), Point(50.0000, 91.5000, 0.0000), Point(50.0000, 90.5000, 0.0000), Point(50.0000, 89.5000, 0.0000), Point(50.0000, 88.5000, 0.0000), Point(50.0000, 87.5000, 0.0000), Point(50.0000, 86.5000, 0.0000), Point(50.0000, 85.5000, 0.0000), Point(50.0000, 84.5000, 0.0000), Point(50.0000, 83.5000, 0.0000), Point(50.0000, 82.5000, 0.0000), Point(50.0000, 81.5000, 0.0000), Point(50.0000, 80.5000, 0.0000), Point(50.0000, 79.5000, 0.0000), Point(50.0000, 78.5000, 0.0000), Point(50.0000, 77.5000, 0.0000), Point(50.0000, 76.5000, 0.0000), Point(50.0000, 75.5000, 0.0000), Point(50.0000, 74.5000, 0.0000), Point(50.0000, 73.5000, 0.0000), Point(50.0000, 72.5000, 0.0000), Point(50.0000, 71.5000, 0.0000), Point(50.0000, 70.5000, 0.0000), Point(50.0000, 69.5000, 0.0000), Point(50.0000, 68.5000, 0.0000), Point(50.0000, 67.5000, 0.0000), Point(50.0000, 66.5000, 0.0000), Point(50.0000, 65.5000, 0.0000), Point(50.0000, 64.5000, 0.0000), Point(50.0000, 63.5000, 0.0000), Point(50.0000, 62.5000, 0.0000), Point(50.0000, 61.5000, 0.0000), Point(50.0000, 60.5000, 0.0000), Point(50.0000, 59.5000, 0.0000), Point(50.0000, 58.5000, 0.0000), Point(50.0000, 57.5000, 0.0000), Point(50.0000, 56.5000, 0.0000), Point(50.0000, 55.5000, 0.0000), Point(50.0000, 54.5000, 0.0000), Point(50.0000, 53.5000, 0.0000), Point(50.0000, 52.5000, 0.0000), Point(50.0000, 51.5000, 0.0000), Point(50.0000, 50.5000, 0.0000), Point(50.0000, 49.5000, 0.0000), Point(50.0000, 48.5000, 0.0000), Point(50.0000, 47.5000, 0.0000), Point(50.0000, 46.5000, 0.0000), Point(50.0000, 45.5000, 0.0000), Point(50.0000, 44.5000, 0.0000), Point(50.0000, 43.5000, 0.0000), Point(50.0000, 42.5000, 0.0000), Point(50.0000, 41.5000, 0.0000), Point(50.0000, 40.5000, 0.0000), Point(50.0000, 39.5000, 0.0000), Point(50.0000, 38.5000, 0.0000), Point(50.0000, 37.5000, 0.0000), Point(50.0000, 36.5000, 0.0000), Point(50.0000, 35.5000, 0.0000), Point(50.0000, 34.5000, 0.0000), Point(50.0000, 33.5000, 0.0000), Point(50.0000, 32.5000, 0.0000), Point(50.0000, 31.5000, 0.0000), Point(50.0000, 30.5000, 0.0000), Point(50.0000, 29.5000, 0.0000), Point(50.0000, 28.5000, 0.0000), Point(50.0000, 27.5000, 0.0000), Point(50.0000, 26.5000, 0.0000), Point(50.0000, 25.5000, 0.0000), Point(50.0000, 24.5000, 0.0000), Point(50.0000, 23.5000, 0.0000), Point(50.0000, 22.5000, 0.0000), Point(50.0000, 21.5000, 0.0000), Point(50.0000, 20.5000, 0.0000), Point(50.0000, 19.5000, 0.0000), Point(50.0000, 18.5000, 0.0000), Point(50.0000, 17.5000, 0.0000), Point(50.0000, 16.5000, 0.0000), Point(50.0000, 15.5000, 0.0000), Point(50.0000, 14.5000, 0.0000), Point(50.0000, 13.5000, 0.0000), Point(50.0000, 12.5000, 0.0000), Point(50.0000, 11.5000, 0.0000), Point(50.0000, 10.5000, 0.0000), Point(50.0000, 9.5000, 0.0000), Point(50.0000, 8.5000, 0.0000), Point(50.0000, 7.5000, 0.0000), Point(50.0000, 6.5000, 0.0000), Point(50.0000, 5.5000, 0.0000), Point(50.0000, 4.5000, 0.0000), Point(50.0000, 3.5000, 0.0000), Point(50.0000, 2.5000, 0.0000), Point(50.0000, 1.5000, 0.0000), Point(50.0000, 0.5000, 0.0000)], [])\n"
     ]
    }
   ],
   "source": [
    "print(inters_pts)"
   ]
  },
  {
   "cell_type": "markdown",
   "metadata": {},
   "source": [
    "Yeahh, as expected :))) : all the intersection points lie at (50, *, 0)"
   ]
  },
  {
   "cell_type": "code",
   "execution_count": null,
   "metadata": {},
   "outputs": [],
   "source": []
  },
  {
   "cell_type": "code",
   "execution_count": null,
   "metadata": {},
   "outputs": [],
   "source": []
  },
  {
   "cell_type": "code",
   "execution_count": null,
   "metadata": {},
   "outputs": [],
   "source": []
  },
  {
   "cell_type": "code",
   "execution_count": null,
   "metadata": {},
   "outputs": [],
   "source": []
  },
  {
   "cell_type": "code",
   "execution_count": null,
   "metadata": {},
   "outputs": [],
   "source": []
  },
  {
   "cell_type": "code",
   "execution_count": null,
   "metadata": {},
   "outputs": [],
   "source": []
  },
  {
   "cell_type": "code",
   "execution_count": null,
   "metadata": {},
   "outputs": [],
   "source": []
  },
  {
   "cell_type": "code",
   "execution_count": null,
   "metadata": {},
   "outputs": [],
   "source": []
  },
  {
   "cell_type": "code",
   "execution_count": null,
   "metadata": {},
   "outputs": [],
   "source": []
  },
  {
   "cell_type": "code",
   "execution_count": null,
   "metadata": {},
   "outputs": [],
   "source": []
  },
  {
   "cell_type": "code",
   "execution_count": null,
   "metadata": {},
   "outputs": [],
   "source": []
  },
  {
   "cell_type": "code",
   "execution_count": null,
   "metadata": {},
   "outputs": [],
   "source": []
  },
  {
   "cell_type": "markdown",
   "metadata": {},
   "source": [
    "Version: 2018-12-15"
   ]
  }
 ],
 "metadata": {
  "kernelspec": {
   "display_name": "Python 3",
   "language": "python",
   "name": "python3"
  },
  "language_info": {
   "codemirror_mode": {
    "name": "ipython",
    "version": 3
   },
   "file_extension": ".py",
   "mimetype": "text/x-python",
   "name": "python",
   "nbconvert_exporter": "python",
   "pygments_lexer": "ipython3",
   "version": "3.5.2"
  }
 },
 "nbformat": 4,
 "nbformat_minor": 2
}
